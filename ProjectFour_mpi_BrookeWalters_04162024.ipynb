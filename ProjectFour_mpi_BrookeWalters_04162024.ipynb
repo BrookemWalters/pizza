{
  "nbformat": 4,
  "nbformat_minor": 0,
  "metadata": {
    "colab": {
      "provenance": [],
      "authorship_tag": "ABX9TyPL2WBAbjJUvAgRMkh460NN",
      "include_colab_link": true
    },
    "kernelspec": {
      "name": "python3",
      "display_name": "Python 3"
    },
    "language_info": {
      "name": "python"
    }
  },
  "cells": [
    {
      "cell_type": "markdown",
      "metadata": {
        "id": "view-in-github",
        "colab_type": "text"
      },
      "source": [
        "<a href=\"https://colab.research.google.com/github/BrookemWalters/pizza/blob/main/ProjectFour_mpi_BrookeWalters_04162024.ipynb\" target=\"_parent\"><img src=\"https://colab.research.google.com/assets/colab-badge.svg\" alt=\"Open In Colab\"/></a>"
      ]
    },
    {
      "cell_type": "markdown",
      "source": [],
      "metadata": {
        "id": "mpego3tBv9wC"
      }
    },
    {
      "cell_type": "code",
      "source": [
        "!pip install mpi4py"
      ],
      "metadata": {
        "colab": {
          "base_uri": "https://localhost:8080/"
        },
        "id": "jm60o0iozNZJ",
        "outputId": "737eb634-267a-43ef-cee2-443ebd7b5124"
      },
      "execution_count": null,
      "outputs": [
        {
          "output_type": "stream",
          "name": "stdout",
          "text": [
            "Collecting mpi4py\n",
            "  Downloading mpi4py-3.1.5.tar.gz (2.5 MB)\n",
            "\u001b[2K     \u001b[90m━━━━━━━━━━━━━━━━━━━━━━━━━━━━━━━━━━━━━━━━\u001b[0m \u001b[32m2.5/2.5 MB\u001b[0m \u001b[31m8.6 MB/s\u001b[0m eta \u001b[36m0:00:00\u001b[0m\n",
            "\u001b[?25h  Installing build dependencies ... \u001b[?25l\u001b[?25hdone\n",
            "  Getting requirements to build wheel ... \u001b[?25l\u001b[?25hdone\n",
            "  Preparing metadata (pyproject.toml) ... \u001b[?25l\u001b[?25hdone\n",
            "Building wheels for collected packages: mpi4py\n",
            "  Building wheel for mpi4py (pyproject.toml) ... \u001b[?25l\u001b[?25hdone\n",
            "  Created wheel for mpi4py: filename=mpi4py-3.1.5-cp310-cp310-linux_x86_64.whl size=2746514 sha256=473429e90ba0ec6e6f46931410e5068d9693c98ef28076220d9474221b6a9089\n",
            "  Stored in directory: /root/.cache/pip/wheels/18/2b/7f/c852523089e9182b45fca50ff56f49a51eeb6284fd25a66713\n",
            "Successfully built mpi4py\n",
            "Installing collected packages: mpi4py\n",
            "Successfully installed mpi4py-3.1.5\n"
          ]
        }
      ]
    },
    {
      "cell_type": "code",
      "execution_count": null,
      "metadata": {
        "colab": {
          "base_uri": "https://localhost:8080/"
        },
        "id": "5qYycjRRv2E6",
        "outputId": "17db7e48-f09c-4ac6-c00e-4a75b2b395ba"
      },
      "outputs": [
        {
          "output_type": "stream",
          "name": "stdout",
          "text": [
            "Overwriting mm_mpip4.py\n"
          ]
        }
      ],
      "source": [
        "#brooke walters\n",
        "#cis 677\n",
        "# project four\n",
        "# due 4/16/2024\n",
        "\n",
        "# write the source file to a python file\n",
        "%%writefile mm_mpip4.py\n",
        "# import libraries\n",
        "from mpi4py import MPI\n",
        "import time\n",
        "import sys\n",
        "import numpy as np\n",
        "\n",
        "# generate matrices\n",
        "def random_matrices(n):\n",
        "  a = np.random.randint(1, 200, size=(n, n))\n",
        "  b = np.random.randint(1, 200, size=(n, n))\n",
        "  c = np.zeros((n,n))\n",
        "\n",
        "  return a,b,c\n",
        "\n",
        "if __name__ == \"__main__\":\n",
        "  # initialize mpi\n",
        "    comm = MPI.COMM_WORLD # initialize MPI communicator\n",
        "    rank = comm.Get_rank() #proccess's unique ID\n",
        "    size = comm.Get_size()    #communicator's scale\n",
        "\n",
        "    if rank == 0:\n",
        "      #n will be determined by the user\n",
        "      n = (int)(sys.argv[1])\n",
        "\n",
        "      # generate matrices\n",
        "      a,b,c = random_matrices(n)\n",
        "\n",
        "      # divide the calculations for the resulting matrices by rows. Every worker computes a separate set of rows\n",
        "      # determine the number of rows\n",
        "      portion_each_node = n // size\n",
        "      remainder_portion = n % size\n",
        "\n",
        "    else:\n",
        "      n = None\n",
        "\n",
        "    # Broadcast the size of matrix b, the matric to be scattered\n",
        "    # in the multiset to all participating nodes\n",
        "    a = comm.bcast(a,root=0)\n",
        "\n",
        "    # Define row indices for node processes\n",
        "    # adapted from Running MPI Jobs with Conda+Python, https://rchau.uah.edu/gettingStarted/examples/conda-matrix-mult\n",
        "    start = rank * portion_each_node + min(rank, remainder_portion)\n",
        "    end = start + portion_each_node + (1 if rank < remainder_portion else 0)\n",
        "\n",
        "    # scatter matrix b to processes\n",
        "    if rank == 0:\n",
        "      b_worker = [b[start: end] for start, end in zip(\n",
        "      range(0, n, portion_each_node),\n",
        "      range(portion_each_node, n + portion_each_node, portion_each_node))]\n",
        "\n",
        "    else:\n",
        "      b_worker = None\n",
        "\n",
        "    b_row = comm.scatter(b_worker, root=0)\n",
        "\n",
        "    # Each process computes its part of the result\n",
        "    start_time = time.time()\n",
        "    separate_set = np.matmul(a,b_row,out=c)\n",
        "    end_time = time.time()\n",
        "    elapsed_time = end_time - start_time\n",
        "\n",
        "    # Gather the partial results back to the root process\n",
        "    result = comm.gather(separate_set, root=0)\n",
        "\n",
        "    print(f\"Process {rank} of {size}:  When n = {n}:\"\n",
        "    f\"\\n when the size and shape of the matrix c is {c.size}, {c.shape},\"\n",
        "    f\" the computation time is: {elapsed_time} seconds\\n\")\n",
        "\n",
        "\n",
        "\n"
      ]
    },
    {
      "cell_type": "code",
      "source": [
        "# 300,400,500,600 and 700.\n",
        "\n",
        "!python mm_mpip4.py 300\n",
        "!python mm_mpip4.py 400\n",
        "!python mm_mpip4.py 500\n",
        "!python mm_mpip4.py 600\n",
        "!python mm_mpip4.py 700"
      ],
      "metadata": {
        "colab": {
          "base_uri": "https://localhost:8080/"
        },
        "id": "V26vfmxa0tBh",
        "outputId": "888a58d2-02e0-465f-b0a9-03bcf3265ab2"
      },
      "execution_count": null,
      "outputs": [
        {
          "output_type": "stream",
          "name": "stdout",
          "text": [
            "Process 0 of 1:  When n = 300:\n",
            " when the size and shape of the matrix c is 90000, (300, 300), the computation time is: 0.04860949516296387 seconds\n",
            "\n",
            "Process 0 of 1:  When n = 400:\n",
            " when the size and shape of the matrix c is 160000, (400, 400), the computation time is: 0.13546442985534668 seconds\n",
            "\n",
            "Process 0 of 1:  When n = 500:\n",
            " when the size and shape of the matrix c is 250000, (500, 500), the computation time is: 0.19206786155700684 seconds\n",
            "\n",
            "Process 0 of 1:  When n = 600:\n",
            " when the size and shape of the matrix c is 360000, (600, 600), the computation time is: 0.3263084888458252 seconds\n",
            "\n",
            "Process 0 of 1:  When n = 700:\n",
            " when the size and shape of the matrix c is 490000, (700, 700), the computation time is: 0.5328958034515381 seconds\n",
            "\n"
          ]
        }
      ]
    }
  ]
}